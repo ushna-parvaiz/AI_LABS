{
 "cells": [
  {
   "cell_type": "markdown",
   "id": "d1d7eb32",
   "metadata": {},
   "source": [
    "# Practice"
   ]
  },
  {
   "cell_type": "code",
   "execution_count": 1,
   "id": "38362a42",
   "metadata": {},
   "outputs": [
    {
     "name": "stdout",
     "output_type": "stream",
     "text": [
      "Hello World!!\n"
     ]
    }
   ],
   "source": [
    "#Print \n",
    "print(\"Hello World!!\")"
   ]
  },
  {
   "cell_type": "code",
   "execution_count": 23,
   "id": "9b812b11",
   "metadata": {},
   "outputs": [
    {
     "name": "stdout",
     "output_type": "stream",
     "text": [
      "The sum of 20 and 30 is 50\n"
     ]
    }
   ],
   "source": [
    "#Add two numbers by formatting Function\n",
    "num1 = 20\n",
    "num2 = 30\n",
    "sum = num1 + num2\n",
    "print('The sum of {0} and {1} is {2}'.format(num1,num2,sum))"
   ]
  },
  {
   "cell_type": "code",
   "execution_count": 12,
   "id": "c49a22c0",
   "metadata": {},
   "outputs": [
    {
     "name": "stdout",
     "output_type": "stream",
     "text": [
      "Enter first Number: 3\n",
      "Enter second Number; 4\n",
      "The sum of 3 and 4 is 7\n"
     ]
    }
   ],
   "source": [
    "#Input from user\n",
    "num1 =input('Enter first Number: ')\n",
    "num2 =input('Enter second Number; ')\n",
    "sum =int(num1) + int(num2)\n",
    "print('The sum of {0} and {1} is {2}'.format(num1,num2,sum))"
   ]
  },
  {
   "cell_type": "code",
   "execution_count": 17,
   "id": "77f7cc5e",
   "metadata": {},
   "outputs": [
    {
     "name": "stdout",
     "output_type": "stream",
     "text": [
      "<class 'str'>\n"
     ]
    }
   ],
   "source": [
    "#Type function \n",
    "x= \"Hello world\"\n",
    "print(type(x))"
   ]
  },
  {
   "cell_type": "code",
   "execution_count": 20,
   "id": "1e865bd1",
   "metadata": {},
   "outputs": [
    {
     "name": "stdout",
     "output_type": "stream",
     "text": [
      "Welcome, Ayesha\n"
     ]
    }
   ],
   "source": [
    "#If-Else\n",
    "name = 'Ayesha'\n",
    "if name =='Ayesha':\n",
    "    print('Welcome, Ayesha')\n",
    "else:\n",
    "    print('Invalid user')\n",
    "    "
   ]
  },
  {
   "cell_type": "code",
   "execution_count": 25,
   "id": "a810484f",
   "metadata": {},
   "outputs": [
    {
     "name": "stdout",
     "output_type": "stream",
     "text": [
      "Enter your Sap_Id41379\n",
      "Enter your NameAyesha Noor\n",
      "Hey, Ayesha Noor your sap is 41379\n"
     ]
    }
   ],
   "source": [
    "# Takes sap id as input from the user\n",
    "sapId = input('Enter your Sap_Id')\n",
    "#  Takes name as input from the user\n",
    "name = input('Enter your Name')\n",
    "#  Shows an output\n",
    "print('Hey, '+name+' your sap is '+sapId)"
   ]
  },
  {
   "cell_type": "code",
   "execution_count": 34,
   "id": "20385281",
   "metadata": {},
   "outputs": [
    {
     "name": "stdout",
     "output_type": "stream",
     "text": [
      "After swaping value of num1 is 30 & value of num2 is 20\n"
     ]
    }
   ],
   "source": [
    "num1 = 20\n",
    "num2 = 30\n",
    "num1,num2 = num2,num1\n",
    "print('After swaping value of num1 is {} & value of num2 is {}'.format(num1,num2))"
   ]
  },
  {
   "cell_type": "code",
   "execution_count": 38,
   "id": "9fcc56d2",
   "metadata": {},
   "outputs": [
    {
     "name": "stdout",
     "output_type": "stream",
     "text": [
      "invalid\n"
     ]
    }
   ],
   "source": [
    "Message = \"programming language\"\n",
    "if Message == 'r':\n",
    "    print(\"found!\")\n",
    "else:\n",
    "    print('invalid')"
   ]
  },
  {
   "cell_type": "code",
   "execution_count": 44,
   "id": "d48a8000",
   "metadata": {},
   "outputs": [
    {
     "name": "stdout",
     "output_type": "stream",
     "text": [
      "H\n",
      "e\n",
      "l\n",
      "l\n",
      "o\n"
     ]
    }
   ],
   "source": [
    "#Iterate through python\n",
    "greet = 'Hello'\n",
    "for letter in greet:\n",
    "    print(letter)"
   ]
  },
  {
   "cell_type": "code",
   "execution_count": 48,
   "id": "824e6b69",
   "metadata": {},
   "outputs": [
    {
     "name": "stdout",
     "output_type": "stream",
     "text": [
      "hello ayesha\n"
     ]
    }
   ],
   "source": [
    "#Join 2 strings\n",
    "greet = \"hello \"\n",
    "name = \"ayesha\"\n",
    "result = greet + name\n",
    "print(result)"
   ]
  },
  {
   "cell_type": "code",
   "execution_count": 50,
   "id": "321d002c",
   "metadata": {},
   "outputs": [
    {
     "name": "stdout",
     "output_type": "stream",
     "text": [
      "['apple', 'banana', 'Cherry']\n",
      "3\n"
     ]
    }
   ],
   "source": [
    "#List & length of list\n",
    "list = ['apple', 'banana', 'Cherry']\n",
    "print(list)\n",
    "print(len(list))"
   ]
  },
  {
   "cell_type": "code",
   "execution_count": 88,
   "id": "d0087708",
   "metadata": {},
   "outputs": [
    {
     "name": "stdout",
     "output_type": "stream",
     "text": [
      "Hello, W\n"
     ]
    }
   ],
   "source": [
    "#Slice of string\n",
    "string =\"Hello, World\"\n",
    "#slice = string[8:]\n",
    "#print(slice)\n",
    "#print(string[-5:-2])\n",
    "#print(string[::2])\n",
    "#print(string[::-1])\n",
    "print(string[:8])"
   ]
  },
  {
   "cell_type": "code",
   "execution_count": 71,
   "id": "82259309",
   "metadata": {},
   "outputs": [
    {
     "name": "stdout",
     "output_type": "stream",
     "text": [
      "apple\n",
      "banana\n",
      "Cherry\n"
     ]
    }
   ],
   "source": [
    "list = ['apple', 'banana', 'Cherry']\n",
    "for x in list:\n",
    "    print(x)"
   ]
  },
  {
   "cell_type": "code",
   "execution_count": null,
   "id": "1eb56a73",
   "metadata": {},
   "outputs": [],
   "source": []
  }
 ],
 "metadata": {
  "kernelspec": {
   "display_name": "Python 3 (ipykernel)",
   "language": "python",
   "name": "python3"
  },
  "language_info": {
   "codemirror_mode": {
    "name": "ipython",
    "version": 3
   },
   "file_extension": ".py",
   "mimetype": "text/x-python",
   "name": "python",
   "nbconvert_exporter": "python",
   "pygments_lexer": "ipython3",
   "version": "3.11.5"
  }
 },
 "nbformat": 4,
 "nbformat_minor": 5
}
