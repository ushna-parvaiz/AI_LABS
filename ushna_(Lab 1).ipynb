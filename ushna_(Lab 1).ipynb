{
 "cells": [
  {
   "cell_type": "code",
   "execution_count": 1,
   "id": "2ee8c8ec-7c8f-42ff-abf2-968ea061d220",
   "metadata": {},
   "outputs": [
    {
     "name": "stdout",
     "output_type": "stream",
     "text": [
      "make your profile\n"
     ]
    }
   ],
   "source": [
    "print(\"make your profile\")"
   ]
  },
  {
   "cell_type": "code",
   "execution_count": 5,
   "id": "40de7295-74b9-4a07-ba02-0672633a2781",
   "metadata": {},
   "outputs": [
    {
     "name": "stdout",
     "output_type": "stream",
     "text": [
      "ushna\n",
      "21\n",
      "riphah university\n",
      "12345678\n",
      "riphah@gmail.com\n",
      "12345675432\n"
     ]
    }
   ],
   "source": [
    "\n",
    "name=\"ushna\"\n",
    "age=21\n",
    "address=\"riphah university\"\n",
    "phoneNo=12345678\n",
    "email=\"riphah@gmail.com\"\n",
    "CNIC=12345675432\n",
    "print( name)\n",
    "print(age )\n",
    "print(address)\n",
    "print( phoneNo)\n",
    "print(  email)\n",
    "print( CNIC )"
   ]
  },
  {
   "cell_type": "code",
   "execution_count": 6,
   "id": "74c528a5-445d-417a-a5ac-54866648c3c5",
   "metadata": {},
   "outputs": [
    {
     "name": "stdin",
     "output_type": "stream",
     "text": [
      "enter your sap 123\n"
     ]
    },
    {
     "name": "stdout",
     "output_type": "stream",
     "text": [
      "123\n"
     ]
    }
   ],
   "source": [
    "sap=input(\"enter your sap\")\n",
    "print(sap)"
   ]
  },
  {
   "cell_type": "code",
   "execution_count": 21,
   "id": "5d7a0ea0-799c-4c09-bf07-9a63e4d3ca0d",
   "metadata": {},
   "outputs": [
    {
     "name": "stdin",
     "output_type": "stream",
     "text": [
      "enter your name ushna\n",
      "enter your sap 40819\n"
     ]
    },
    {
     "name": "stdout",
     "output_type": "stream",
     "text": [
      "Name: ushna, SAP: 40819\n"
     ]
    }
   ],
   "source": [
    "name=input(\"enter your name\")\n",
    "sap=input(\"enter your sap\")\n",
    "print(\"Name: \" + name + \", SAP: \" + sap)"
   ]
  },
  {
   "cell_type": "code",
   "execution_count": 20,
   "id": "1a74f622-96ff-4609-bf50-d087ab3092be",
   "metadata": {},
   "outputs": [
    {
     "name": "stdout",
     "output_type": "stream",
     "text": [
      "a = 12\n",
      "b = 9\n"
     ]
    }
   ],
   "source": [
    "a = 9\n",
    "b = 12\n",
    "a, b = b, a\n",
    "print(\"a =\", a)  \n",
    "print(\"b =\", b)"
   ]
  },
  {
   "cell_type": "code",
   "execution_count": 12,
   "id": "0fdea808-e13d-419a-91ea-ee5628e333b4",
   "metadata": {},
   "outputs": [
    {
     "data": {
      "text/plain": [
       "16"
      ]
     },
     "execution_count": 12,
     "metadata": {},
     "output_type": "execute_result"
    }
   ],
   "source": [
    "message=\"programming language\"\n",
    "message.find(\"r\")\n",
    "message.find(\"a\")\n",
    "message.find(\"m\")\n",
    "message.find(\"n\")\n",
    "message.find(\"ru\")\n"
   ]
  },
  {
   "cell_type": "code",
   "execution_count": 16,
   "id": "45d3e52f-5e2d-4fb3-865a-2ff8a256f0d3",
   "metadata": {},
   "outputs": [
    {
     "name": "stdout",
     "output_type": "stream",
     "text": [
      "30\n"
     ]
    }
   ],
   "source": [
    " a=10\n",
    "b=20\n",
    "var=a+b\n",
    "print(var)"
   ]
  },
  {
   "cell_type": "code",
   "execution_count": null,
   "id": "11fe98c2-294d-4628-8048-107bf6c42af4",
   "metadata": {},
   "outputs": [],
   "source": []
  }
 ],
 "metadata": {
  "kernelspec": {
   "display_name": "Python 3 (ipykernel)",
   "language": "python",
   "name": "python3"
  },
  "language_info": {
   "codemirror_mode": {
    "name": "ipython",
    "version": 3
   },
   "file_extension": ".py",
   "mimetype": "text/x-python",
   "name": "python",
   "nbconvert_exporter": "python",
   "pygments_lexer": "ipython3",
   "version": "3.11.7"
  }
 },
 "nbformat": 4,
 "nbformat_minor": 5
}
