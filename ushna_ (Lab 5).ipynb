{
 "cells": [
  {
   "cell_type": "code",
   "execution_count": 7,
   "id": "935c95b2",
   "metadata": {},
   "outputs": [
    {
     "name": "stdout",
     "output_type": "stream",
     "text": [
      "[[ True  True  True  True]\n",
      " [ True  True  True  True]]\n"
     ]
    }
   ],
   "source": [
    "#Task 1\n",
    "import numpy as np\n",
    "arr=np.array([[1,2,3,4],[10,11,12,13]], dtype=float)\n",
    "print(arr.astype(bool))"
   ]
  },
  {
   "cell_type": "code",
   "execution_count": 9,
   "id": "abdf17a1",
   "metadata": {},
   "outputs": [
    {
     "name": "stdout",
     "output_type": "stream",
     "text": [
      "[1 2 3 4]\n",
      "[ 1  2 55  3  4]\n"
     ]
    }
   ],
   "source": [
    "#Task 2\n",
    "import numpy as np\n",
    "arr=np.array([1,2,3,4])\n",
    "arr0=np.insert(arr,2,55)\n",
    "print(arr)\n",
    "print(arr0)"
   ]
  },
  {
   "cell_type": "code",
   "execution_count": 24,
   "id": "a662a940",
   "metadata": {},
   "outputs": [
    {
     "name": "stdout",
     "output_type": "stream",
     "text": [
      "[ 0  2  4  6  8 10 12 14 16 18 20 22 24 26 28 30 32 34 36 38 40 42 44 46\n",
      " 48 50 52 54 56 58 60 62 64 66 68 70 72 74 76 78 80 82 84 86 88 90 92 94\n",
      " 96 98]\n"
     ]
    }
   ],
   "source": [
    "#Task 3\n",
    "import numpy as np\n",
    "arr=np.arange(0,100,2)\n",
    "print(arr)"
   ]
  },
  {
   "cell_type": "code",
   "execution_count": 13,
   "id": "97875570",
   "metadata": {},
   "outputs": [
    {
     "name": "stdout",
     "output_type": "stream",
     "text": [
      "148\n",
      "[ 8 18 45 77]\n"
     ]
    }
   ],
   "source": [
    "#Task 4\n",
    "import numpy as np\n",
    "arr=np.array([2,3,5,7])\n",
    "arr0=np.array([4,6,9,11])\n",
    "arr1=np.dot(arr,arr0) # By DOt Method\n",
    "arr2=arr*arr0 # By simple Multiply\n",
    "print(arr1)\n",
    "print(arr2)"
   ]
  },
  {
   "cell_type": "code",
   "execution_count": 41,
   "id": "4c2c527a",
   "metadata": {},
   "outputs": [
    {
     "name": "stdout",
     "output_type": "stream",
     "text": [
      "Enter any number to check: 3\n",
      "3 is present in the array.\n"
     ]
    }
   ],
   "source": [
    "#Task 5\n",
    "array=[3,5,7,9,11]\n",
    "num=int(input(\"Enter any number to check: \"))\n",
    "\n",
    "for number in array:\n",
    "    if number == num:\n",
    "        print(f\"{num} is present in the array.\")\n",
    "        break\n",
    "else:\n",
    "    print(f\"{num} is not present in the array.\")"
   ]
  },
  {
   "cell_type": "code",
   "execution_count": null,
   "id": "59a02ac2",
   "metadata": {},
   "outputs": [],
   "source": []
  },
  {
   "cell_type": "code",
   "execution_count": null,
   "id": "a9e19493",
   "metadata": {},
   "outputs": [],
   "source": []
  }
 ],
 "metadata": {
  "kernelspec": {
   "display_name": "Python 3 (ipykernel)",
   "language": "python",
   "name": "python3"
  },
  "language_info": {
   "codemirror_mode": {
    "name": "ipython",
    "version": 3
   },
   "file_extension": ".py",
   "mimetype": "text/x-python",
   "name": "python",
   "nbconvert_exporter": "python",
   "pygments_lexer": "ipython3",
   "version": "3.11.5"
  }
 },
 "nbformat": 4,
 "nbformat_minor": 5
}
