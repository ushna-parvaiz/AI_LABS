{
 "cells": [
  {
   "cell_type": "markdown",
   "id": "1b1fc63b",
   "metadata": {},
   "source": [
    "# Lab#4"
   ]
  },
  {
   "cell_type": "markdown",
   "id": "ec514930",
   "metadata": {},
   "source": [
    "# Task 1"
   ]
  },
  {
   "cell_type": "code",
   "execution_count": 4,
   "id": "3b2ba17b",
   "metadata": {},
   "outputs": [
    {
     "name": "stdout",
     "output_type": "stream",
     "text": [
      "17\n"
     ]
    }
   ],
   "source": [
    "list = [7,5,3,0,2]\n",
    "def function(list):\n",
    "    totalNumber=sum(list)\n",
    "    print(totalNumber)\n",
    "function(list)"
   ]
  },
  {
   "cell_type": "markdown",
   "id": "92e9d73c",
   "metadata": {},
   "source": [
    "# Task# 2"
   ]
  },
  {
   "cell_type": "code",
   "execution_count": 10,
   "id": "2bf5a562",
   "metadata": {},
   "outputs": [
    {
     "name": "stdout",
     "output_type": "stream",
     "text": [
      "Roll number 102 is Present.\n"
     ]
    }
   ],
   "source": [
    "def check_attendance(roll_numbers, roll_to_check):\n",
    "    if roll_to_check in roll_numbers:\n",
    "        return \"Present\"\n",
    "    else:\n",
    "        return \"Absent\"\n",
    "roll_numbers = [101, 102, 103, 104, 105]  \n",
    "roll_to_check = 102  \n",
    "\n",
    "status = check_attendance(roll_numbers, roll_to_check)\n",
    "print(f\"Roll number {roll_to_check} is {status}.\")"
   ]
  },
  {
   "cell_type": "markdown",
   "id": "a11965da",
   "metadata": {},
   "source": [
    "# Task#3"
   ]
  },
  {
   "cell_type": "code",
   "execution_count": 27,
   "id": "9fb815d5",
   "metadata": {},
   "outputs": [
    {
     "name": "stdout",
     "output_type": "stream",
     "text": [
      "Name: Ayesha, Age: 21, Gender: Female\n"
     ]
    }
   ],
   "source": [
    "class Person:\n",
    "    def __init__(self, name, age, gender): \n",
    "        self.name = name\n",
    "        self.age = age\n",
    "        self.gender = gender\n",
    "\n",
    "    def display_info(self):\n",
    "        return f\"Name: {self.name}, Age: {self.age}, Gender: {self.gender}\"\n",
    "\n",
    "person1 = Person(\"Ayesha\", 21, \"Female\")\n",
    "\n",
    "print(person1.display_info())\n"
   ]
  },
  {
   "cell_type": "markdown",
   "id": "e414935b",
   "metadata": {},
   "source": [
    "# Task#4"
   ]
  },
  {
   "cell_type": "code",
   "execution_count": 18,
   "id": "e933d9e3",
   "metadata": {},
   "outputs": [
    {
     "name": "stdout",
     "output_type": "stream",
     "text": [
      "ayesha Noor\n",
      "Javeria inam\n",
      "Ushna Pervaiz\n",
      "Fatima Malik\n"
     ]
    }
   ],
   "source": [
    "class person:\n",
    "    def __init__(self,fname,lname):\n",
    "        self.fname = fname\n",
    "        self.lname = lname\n",
    "        print(self.fname,self.lname)\n",
    "p1=person(\"ayesha\",\"Noor\")\n",
    "p2=person(\"Javeria\",\"inam\")\n",
    "p3=person(\"Ushna\",\"Pervaiz\")\n",
    "p4=person(\"Fatima\",\"Malik\")"
   ]
  },
  {
   "cell_type": "markdown",
   "id": "76d4f7ce",
   "metadata": {},
   "source": [
    "# Task#5"
   ]
  },
  {
   "cell_type": "code",
   "execution_count": 30,
   "id": "e3942ed4",
   "metadata": {},
   "outputs": [
    {
     "name": "stdout",
     "output_type": "stream",
     "text": [
      "Name: Ayesha\n",
      "Age: 20\n",
      "Grades: [50, 20, 80, 20, 82]\n",
      "Average Grade: 50.40\n"
     ]
    }
   ],
   "source": [
    "# Define the Student class\n",
    "class Student:\n",
    "    def __init__(self, name, age, grades):  # Corrected the constructor\n",
    "        self.name = name\n",
    "        self.age = age\n",
    "        self.grades = grades  # List of grades\n",
    "\n",
    "    # Method to calculate and return the average grade\n",
    "    def average_grade(self):\n",
    "        if len(self.grades) > 0:\n",
    "            return sum(self.grades) / len(self.grades)\n",
    "        else:\n",
    "            return 0  # Return 0 if no grades are available\n",
    "\n",
    "# Create a Student object\n",
    "student1 = Student(\"Ayesha\", 20, [50, 20, 80, 20, 82])\n",
    "\n",
    "# Access the attributes and call the average_grade method\n",
    "print(f\"Name: {student1.name}\")\n",
    "print(f\"Age: {student1.age}\")\n",
    "print(f\"Grades: {student1.grades}\")\n",
    "print(f\"Average Grade: {student1.average_grade():.2f}\")\n"
   ]
  },
  {
   "cell_type": "code",
   "execution_count": null,
   "id": "d76d3d1a",
   "metadata": {},
   "outputs": [],
   "source": []
  }
 ],
 "metadata": {
  "kernelspec": {
   "display_name": "Python 3 (ipykernel)",
   "language": "python",
   "name": "python3"
  },
  "language_info": {
   "codemirror_mode": {
    "name": "ipython",
    "version": 3
   },
   "file_extension": ".py",
   "mimetype": "text/x-python",
   "name": "python",
   "nbconvert_exporter": "python",
   "pygments_lexer": "ipython3",
   "version": "3.11.5"
  }
 },
 "nbformat": 4,
 "nbformat_minor": 5
}
