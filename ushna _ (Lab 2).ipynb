{
 "cells": [
  {
   "cell_type": "raw",
   "id": "eafca1b4",
   "metadata": {},
   "source": [
    "Task # 1"
   ]
  },
  {
   "cell_type": "code",
   "execution_count": 13,
   "id": "2fa22676",
   "metadata": {},
   "outputs": [
    {
     "name": "stdout",
     "output_type": "stream",
     "text": [
      "Ayesha\n",
      "22\n",
      "House no. 79/A\n",
      "kiani6824G@gmail.com\n",
      "2345677\n",
      "3316937174\n"
     ]
    }
   ],
   "source": [
    "# Display your profile\n",
    "name =\"ushna\"\n",
    "age = 22\n",
    "Address = 'House no. 1234'\n",
    "email = \"ushnap@gmail.com\"\n",
    "cnic = 2323\n",
    "phone = 2354645388776655\n",
    "print(name)\n",
    "print(age)\n",
    "print(Address)\n",
    "print(email)\n",
    "print(cnic)\n",
    "print(phone)"
   ]
  },
  {
   "cell_type": "markdown",
   "id": "ebe190f5",
   "metadata": {},
   "source": [
    "Task # 2"
   ]
  },
  {
   "cell_type": "code",
   "execution_count": 35,
   "id": "40d76e5b",
   "metadata": {},
   "outputs": [
    {
     "name": "stdout",
     "output_type": "stream",
     "text": [
      "num1: 20\n",
      "num2: 10\n"
     ]
    }
   ],
   "source": [
    "# Swap 2 Variables\n",
    "num1 = 10\n",
    "num2 = 20\n",
    "num3 = num1\n",
    "num1 = num2\n",
    "num2 = num3\n",
    "print(\"num1:\",num1)\n",
    "print(\"num2:\",num2)"
   ]
  },
  {
   "cell_type": "markdown",
   "id": "d7abd95d",
   "metadata": {},
   "source": [
    "Task # 3"
   ]
  },
  {
   "cell_type": "code",
   "execution_count": 30,
   "id": "a56eef22",
   "metadata": {},
   "outputs": [
    {
     "name": "stdout",
     "output_type": "stream",
     "text": [
      "Enter your name: ayesha noor\n",
      "Enter your sap: 41379\n",
      "Hey ayesha noor your sap is 41379\n"
     ]
    }
   ],
   "source": [
    "# DIsplay from user\n",
    "name = input(\"Enter your name: \")\n",
    "sap = input(\"Enter your sap: \")\n",
    "print(\"Hey \"+ (name) + \" your sap is \" +(sap))\n"
   ]
  },
  {
   "cell_type": "markdown",
   "id": "4fbc8818",
   "metadata": {},
   "source": [
    "Task # 4"
   ]
  },
  {
   "cell_type": "code",
   "execution_count": null,
   "id": "da07e7ab",
   "metadata": {},
   "outputs": [],
   "source": [
    "message= \"Programming Language\"\n",
    "message.find(\"r\")\n",
    "message.find(\"a\")\n",
    "message.find(\"m\")\n",
    "message.find(\"n\")\n",
    "message.find(\"u\")"
   ]
  },
  {
   "cell_type": "markdown",
   "id": "80dd579b",
   "metadata": {},
   "source": [
    "Task # 5"
   ]
  },
  {
   "cell_type": "code",
   "execution_count": 26,
   "id": "a0f4aeea",
   "metadata": {},
   "outputs": [
    {
     "name": "stdout",
     "output_type": "stream",
     "text": [
      "False\n"
     ]
    }
   ],
   "source": [
    "#Comparison operator\n",
    "num1 = 20\n",
    "num2 = 30\n",
    "print(num1==num2)"
   ]
  },
  {
   "cell_type": "code",
   "execution_count": null,
   "id": "67c03b5f",
   "metadata": {},
   "outputs": [],
   "source": []
  }
 ],
 "metadata": {
  "kernelspec": {
   "display_name": "Python 3 (ipykernel)",
   "language": "python",
   "name": "python3"
  },
  "language_info": {
   "codemirror_mode": {
    "name": "ipython",
    "version": 3
   },
   "file_extension": ".py",
   "mimetype": "text/x-python",
   "name": "python",
   "nbconvert_exporter": "python",
   "pygments_lexer": "ipython3",
   "version": "3.11.5"
  }
 },
 "nbformat": 4,
 "nbformat_minor": 5
}
